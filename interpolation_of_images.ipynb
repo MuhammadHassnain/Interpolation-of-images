{
  "nbformat": 4,
  "nbformat_minor": 0,
  "metadata": {
    "colab": {
      "name": "interpolation_of_images.ipynb",
      "provenance": [],
      "collapsed_sections": []
    },
    "kernelspec": {
      "name": "python3",
      "display_name": "Python 3"
    },
    "accelerator": "GPU"
  },
  "cells": [
    {
      "cell_type": "code",
      "metadata": {
        "id": "1Ily3ZzEd4PO",
        "colab_type": "code",
        "colab": {}
      },
      "source": [
        "import numpy as np\n",
        "\n",
        "import pandas as pd\n",
        "from scipy import interpolate"
      ],
      "execution_count": 1,
      "outputs": []
    },
    {
      "cell_type": "code",
      "metadata": {
        "id": "rRWwLfRNfuv-",
        "colab_type": "code",
        "colab": {}
      },
      "source": [
        "from tensorflow import keras"
      ],
      "execution_count": 92,
      "outputs": []
    },
    {
      "cell_type": "code",
      "metadata": {
        "id": "gTtd7GVHjTl3",
        "colab_type": "code",
        "colab": {}
      },
      "source": [
        "#download fashion mnist data for testing\n",
        "fashion_mnist = keras.datasets.fashion_mnist\n",
        "\n",
        "(train_images, train_labels), (test_images, test_labels) = fashion_mnist.load_data()"
      ],
      "execution_count": 93,
      "outputs": []
    },
    {
      "cell_type": "code",
      "metadata": {
        "id": "v9qECfY9albz",
        "colab_type": "code",
        "colab": {
          "base_uri": "https://localhost:8080/",
          "height": 34
        },
        "outputId": "49926680-4ef9-4b41-bf31-4987fe1dbb63"
      },
      "source": [
        "train_images.shape"
      ],
      "execution_count": 4,
      "outputs": [
        {
          "output_type": "execute_result",
          "data": {
            "text/plain": [
              "(60000, 28, 28)"
            ]
          },
          "metadata": {
            "tags": []
          },
          "execution_count": 4
        }
      ]
    },
    {
      "cell_type": "code",
      "metadata": {
        "id": "Oa4XOVsXayoD",
        "colab_type": "code",
        "colab": {}
      },
      "source": [
        "#Function input 2-dimensional image with misssing values \n",
        "#return interpolated image with given method\n",
        "def find_missing_values(image):\n",
        "  rows,cols = image.shape\n",
        "  x = np.arange(0,cols)\n",
        "  y = np.arange(0,rows)\n",
        "  array = np.ma.masked_invalid(image)\n",
        "  xx, yy = np.meshgrid(x,y)\n",
        "  x_valid = xx[~array.mask]\n",
        "  y_valid = yy[~array.mask]\n",
        "  newarr = image[~array.mask]\n",
        "  gd = interpolate.griddata((x_valid,y_valid),newarr.ravel(),(xx,yy),method='cubic')\n",
        "  gd = np.nan_to_num(gd)\n",
        "  gd[gd==0] = gd.mean()\n",
        "  return gd"
      ],
      "execution_count": 88,
      "outputs": []
    },
    {
      "cell_type": "code",
      "metadata": {
        "id": "TELnhEVnmfIj",
        "colab_type": "code",
        "colab": {
          "base_uri": "https://localhost:8080/",
          "height": 34
        },
        "outputId": "f97e4e9c-062a-46cf-9a67-d785b1c7ef99"
      },
      "source": [
        "%pylab inline\n",
        "import matplotlib.pyplot as plt"
      ],
      "execution_count": 89,
      "outputs": [
        {
          "output_type": "stream",
          "text": [
            "Populating the interactive namespace from numpy and matplotlib\n"
          ],
          "name": "stdout"
        }
      ]
    },
    {
      "cell_type": "code",
      "metadata": {
        "id": "RXaEM1rraqAP",
        "colab_type": "code",
        "colab": {
          "base_uri": "https://localhost:8080/",
          "height": 282
        },
        "outputId": "468d94d8-5af9-4e79-a6eb-cb22a1e38023"
      },
      "source": [
        "A = train_images[0]\n",
        "plt.imshow(A)"
      ],
      "execution_count": 90,
      "outputs": [
        {
          "output_type": "execute_result",
          "data": {
            "text/plain": [
              "<matplotlib.image.AxesImage at 0x7fd1657f5160>"
            ]
          },
          "metadata": {
            "tags": []
          },
          "execution_count": 90
        },
        {
          "output_type": "display_data",
          "data": {
            "image/png": "[encoded data removed]",
            "text/plain": [
              "<Figure size 432x288 with 1 Axes>"
            ]
          },
          "metadata": {
            "tags": [],
            "needs_background": "light"
          }
        }
      ]
    },
    {
      "cell_type": "code",
      "metadata": {
        "id": "4IBgW1BYm_ua",
        "colab_type": "code",
        "colab": {}
      },
      "source": [
        "A = np.array(A,dtype=np.float)"
      ],
      "execution_count": 91,
      "outputs": []
    },
    {
      "cell_type": "code",
      "metadata": {
        "id": "VD4SaqaamO4h",
        "colab_type": "code",
        "colab": {}
      },
      "source": [
        "A_ = np.copy(A)\n",
        "c = int((A.shape[0]*A.shape[1])/2)\n",
        "A_.ravel()[np.random.choice(A.size,c,replace=False)] = np.nan\n",
        "A_ = np.array(A_)"
      ],
      "execution_count": 85,
      "outputs": []
    },
    {
      "cell_type": "code",
      "metadata": {
        "id": "kFujsVkAfLLs",
        "colab_type": "code",
        "colab": {}
      },
      "source": [
        "AInterPolate = find_missing_values(image=A_)"
      ],
      "execution_count": 86,
      "outputs": []
    },
    {
      "cell_type": "code",
      "metadata": {
        "id": "x5dARAPbqVh-",
        "colab_type": "code",
        "colab": {
          "base_uri": "https://localhost:8080/",
          "height": 282
        },
        "outputId": "70076068-3af9-4bc5-caed-e83a8cb21037"
      },
      "source": [
        "plt.imshow(AInterPolate)"
      ],
      "execution_count": 87,
      "outputs": [
        {
          "output_type": "execute_result",
          "data": {
            "text/plain": [
              "<matplotlib.image.AxesImage at 0x7fd16580beb8>"
            ]
          },
          "metadata": {
            "tags": []
          },
          "execution_count": 87
        },
        {
          "output_type": "display_data",
          "data": {
            "image/png": "[encoded data removed]",
            "text/plain": [
              "<Figure size 432x288 with 1 Axes>"
            ]
          },
          "metadata": {
            "tags": [],
            "needs_background": "light"
          }
        }
      ]
    },
    {
      "cell_type": "code",
      "metadata": {
        "id": "-WPsJrw0rJjj",
        "colab_type": "code",
        "colab": {}
      },
      "source": [
        ""
      ],
      "execution_count": null,
      "outputs": []
    }
  ]
}